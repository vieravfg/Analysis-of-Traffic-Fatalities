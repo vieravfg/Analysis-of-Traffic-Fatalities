{
 "cells": [
  {
   "cell_type": "markdown",
   "metadata": {},
   "source": [
    "# Assessing the Impact of Daylight Savings Time on Driving Fatalities\n",
    "\n",
    "- Anastasiades, Andrew\n",
    "- Drozdzewicz, Peter\n",
    "- Garcia, Viera\n",
    "- Sperry, Taylor\n",
    "- Surapanemi, Sindhura"
   ]
  },
  {
   "cell_type": "markdown",
   "metadata": {},
   "source": [
    "### DEPENDENCIES"
   ]
  },
  {
   "cell_type": "code",
   "execution_count": 1,
   "metadata": {},
   "outputs": [],
   "source": [
    "import pandas as pd #data manipulation\n",
    "import os #Interoperability\n",
    "import matplotlib.pyplot as plt\n",
    "import scipy.stats as st\n",
    "import numpy as np\n",
    "import datetime as dt"
   ]
  },
  {
   "cell_type": "markdown",
   "metadata": {},
   "source": [
    "### FILE PATHS"
   ]
  },
  {
   "cell_type": "code",
   "execution_count": 2,
   "metadata": {},
   "outputs": [],
   "source": [
    "accident_csv = os.path.join(\"Resources\", \"2018.csv\")\n"
   ]
  },
  {
   "cell_type": "markdown",
   "metadata": {},
   "source": [
    "### LOAD DATAFRAME"
   ]
  },
  {
   "cell_type": "code",
   "execution_count": 3,
   "metadata": {},
   "outputs": [
    {
     "data": {
      "text/plain": [
       "Index(['STATE', 'STATENAME', 'ST_CASE', 'VE_TOTAL', 'VE_FORMS', 'PVH_INVL',\n",
       "       'PEDS', 'PERSONS', 'PERMVIT', 'PERNOTMVIT', 'COUNTY', 'COUNTYNAME',\n",
       "       'CITY', 'CITYNAME', 'DAY', 'DAYNAME', 'MONTH', 'MONTHNAME', 'YEAR',\n",
       "       'DAY_WEEK', 'DAY_WEEKNAME', 'HOUR', 'HOURNAME', 'MINUTE', 'MINUTENAME',\n",
       "       'NHS', 'NHSNAME', 'ROUTE', 'ROUTENAME', 'TWAY_ID', 'TWAY_ID2',\n",
       "       'RUR_URB', 'RUR_URBNAME', 'FUNC_SYS', 'FUNC_SYSNAME', 'RD_OWNER',\n",
       "       'RD_OWNERNAME', 'MILEPT', 'MILEPTNAME', 'LATITUDE', 'LATITUDENAME',\n",
       "       'LONGITUD', 'LONGITUDNAME', 'SP_JUR', 'SP_JURNAME', 'HARM_EV',\n",
       "       'HARM_EVNAME', 'MAN_COLL', 'MAN_COLLNAME', 'RELJCT1', 'RELJCT1NAME',\n",
       "       'RELJCT2', 'RELJCT2NAME', 'TYP_INT', 'TYP_INTNAME', 'WRK_ZONE',\n",
       "       'WRK_ZONENAME', 'REL_ROAD', 'REL_ROADNAME', 'LGT_COND', 'LGT_CONDNAME',\n",
       "       'WEATHER1', 'WEATHER1NAME', 'WEATHER2', 'WEATHER2NAME', 'WEATHER',\n",
       "       'WEATHERNAME', 'SCH_BUS', 'SCH_BUSNAME', 'RAIL', 'RAILNAME', 'NOT_HOUR',\n",
       "       'NOT_HOURNAME', 'NOT_MIN', 'NOT_MINNAME', 'ARR_HOUR', 'ARR_HOURNAME',\n",
       "       'ARR_MIN', 'ARR_MINNAME', 'HOSP_HR', 'HOSP_HRNAME', 'HOSP_MN',\n",
       "       'HOSP_MNNAME', 'CF1', 'CF1NAME', 'CF2', 'CF2NAME', 'CF3', 'CF3NAME',\n",
       "       'FATALS', 'DRUNK_DR'],\n",
       "      dtype='object')"
      ]
     },
     "execution_count": 3,
     "metadata": {},
     "output_type": "execute_result"
    }
   ],
   "source": [
    "raw_df = pd.read_csv(accident_csv)\n",
    "raw_df.columns"
   ]
  },
  {
   "cell_type": "code",
   "execution_count": 4,
   "metadata": {},
   "outputs": [],
   "source": [
    "columns_to_keep = ['STATENAME', 'DAY', 'MONTH','YEAR','HOUR','DAY_WEEK','DAY_WEEKNAME', 'LGT_CONDNAME',\n",
    "                   'DRUNK_DR', 'WEATHERNAME', 'RUR_URBNAME', 'FATALS',]\n",
    "df = pd.read_csv(accident_csv, usecols=columns_to_keep)"
   ]
  },
  {
   "cell_type": "markdown",
   "metadata": {},
   "source": [
    "### CLEAN DATAFRAME"
   ]
  },
  {
   "cell_type": "code",
   "execution_count": 5,
   "metadata": {},
   "outputs": [],
   "source": [
    "# EXCLUDE DRUNK DRIVERS\n",
    "df = df[df[\"DRUNK_DR\"]==0] \n",
    "df.drop(axis=1, labels=[\"DRUNK_DR\"], inplace=True)"
   ]
  },
  {
   "cell_type": "code",
   "execution_count": 6,
   "metadata": {},
   "outputs": [],
   "source": [
    "# ADD DATE AND WEEKNUM\n",
    "df[\"DATE\"] = pd.to_datetime(df[[\"YEAR\", \"MONTH\", \"DAY\"]])\n",
    "#df[\"WEEK_NUM\"] = df[\"DATE\"].dt.week\n",
    "df['WEEK_NUM'] = df['DATE'].apply(lambda x: (x + dt.timedelta(days=1)).week)"
   ]
  },
  {
   "cell_type": "code",
   "execution_count": 7,
   "metadata": {},
   "outputs": [],
   "source": [
    "# SPLIT SAMPLE AND CONTROL\n",
    "control_states = [\"Arizona\", \"Hawaii\"] #These states do not observe DLS\n",
    "control_df = df[df.loc[:,'STATENAME'].isin(control_states)] #NO DLS\n",
    "sample_df = df[~df.loc[:,'STATENAME'].isin(control_states)] #"
   ]
  },
  {
   "cell_type": "code",
   "execution_count": 8,
   "metadata": {},
   "outputs": [
    {
     "data": {
      "text/html": [
       "<div>\n",
       "<style scoped>\n",
       "    .dataframe tbody tr th:only-of-type {\n",
       "        vertical-align: middle;\n",
       "    }\n",
       "\n",
       "    .dataframe tbody tr th {\n",
       "        vertical-align: top;\n",
       "    }\n",
       "\n",
       "    .dataframe thead th {\n",
       "        text-align: right;\n",
       "    }\n",
       "</style>\n",
       "<table border=\"1\" class=\"dataframe\">\n",
       "  <thead>\n",
       "    <tr style=\"text-align: right;\">\n",
       "      <th></th>\n",
       "      <th>STATENAME</th>\n",
       "      <th>DAY</th>\n",
       "      <th>MONTH</th>\n",
       "      <th>YEAR</th>\n",
       "      <th>DAY_WEEK</th>\n",
       "      <th>DAY_WEEKNAME</th>\n",
       "      <th>HOUR</th>\n",
       "      <th>RUR_URBNAME</th>\n",
       "      <th>LGT_CONDNAME</th>\n",
       "      <th>WEATHERNAME</th>\n",
       "      <th>FATALS</th>\n",
       "      <th>DATE</th>\n",
       "      <th>WEEK_NUM</th>\n",
       "    </tr>\n",
       "  </thead>\n",
       "  <tbody>\n",
       "    <tr>\n",
       "      <th>0</th>\n",
       "      <td>Alabama</td>\n",
       "      <td>5</td>\n",
       "      <td>1</td>\n",
       "      <td>2018</td>\n",
       "      <td>6</td>\n",
       "      <td>Friday</td>\n",
       "      <td>6</td>\n",
       "      <td>Rural</td>\n",
       "      <td>Dawn</td>\n",
       "      <td>Clear</td>\n",
       "      <td>1</td>\n",
       "      <td>2018-01-05</td>\n",
       "      <td>1</td>\n",
       "    </tr>\n",
       "    <tr>\n",
       "      <th>1</th>\n",
       "      <td>Alabama</td>\n",
       "      <td>8</td>\n",
       "      <td>1</td>\n",
       "      <td>2018</td>\n",
       "      <td>2</td>\n",
       "      <td>Monday</td>\n",
       "      <td>0</td>\n",
       "      <td>Urban</td>\n",
       "      <td>Dark - Not Lighted</td>\n",
       "      <td>Rain</td>\n",
       "      <td>2</td>\n",
       "      <td>2018-01-08</td>\n",
       "      <td>2</td>\n",
       "    </tr>\n",
       "    <tr>\n",
       "      <th>2</th>\n",
       "      <td>Alabama</td>\n",
       "      <td>8</td>\n",
       "      <td>1</td>\n",
       "      <td>2018</td>\n",
       "      <td>2</td>\n",
       "      <td>Monday</td>\n",
       "      <td>22</td>\n",
       "      <td>Rural</td>\n",
       "      <td>Dark - Not Lighted</td>\n",
       "      <td>Cloudy</td>\n",
       "      <td>1</td>\n",
       "      <td>2018-01-08</td>\n",
       "      <td>2</td>\n",
       "    </tr>\n",
       "    <tr>\n",
       "      <th>3</th>\n",
       "      <td>Alabama</td>\n",
       "      <td>9</td>\n",
       "      <td>1</td>\n",
       "      <td>2018</td>\n",
       "      <td>3</td>\n",
       "      <td>Tuesday</td>\n",
       "      <td>13</td>\n",
       "      <td>Rural</td>\n",
       "      <td>Daylight</td>\n",
       "      <td>Cloudy</td>\n",
       "      <td>1</td>\n",
       "      <td>2018-01-09</td>\n",
       "      <td>2</td>\n",
       "    </tr>\n",
       "    <tr>\n",
       "      <th>4</th>\n",
       "      <td>Alabama</td>\n",
       "      <td>19</td>\n",
       "      <td>1</td>\n",
       "      <td>2018</td>\n",
       "      <td>6</td>\n",
       "      <td>Friday</td>\n",
       "      <td>7</td>\n",
       "      <td>Urban</td>\n",
       "      <td>Daylight</td>\n",
       "      <td>Clear</td>\n",
       "      <td>1</td>\n",
       "      <td>2018-01-19</td>\n",
       "      <td>3</td>\n",
       "    </tr>\n",
       "    <tr>\n",
       "      <th>...</th>\n",
       "      <td>...</td>\n",
       "      <td>...</td>\n",
       "      <td>...</td>\n",
       "      <td>...</td>\n",
       "      <td>...</td>\n",
       "      <td>...</td>\n",
       "      <td>...</td>\n",
       "      <td>...</td>\n",
       "      <td>...</td>\n",
       "      <td>...</td>\n",
       "      <td>...</td>\n",
       "      <td>...</td>\n",
       "      <td>...</td>\n",
       "    </tr>\n",
       "    <tr>\n",
       "      <th>33911</th>\n",
       "      <td>Wyoming</td>\n",
       "      <td>8</td>\n",
       "      <td>10</td>\n",
       "      <td>2018</td>\n",
       "      <td>2</td>\n",
       "      <td>Monday</td>\n",
       "      <td>4</td>\n",
       "      <td>Rural</td>\n",
       "      <td>Dark - Not Lighted</td>\n",
       "      <td>Snow</td>\n",
       "      <td>1</td>\n",
       "      <td>2018-10-08</td>\n",
       "      <td>41</td>\n",
       "    </tr>\n",
       "    <tr>\n",
       "      <th>33912</th>\n",
       "      <td>Wyoming</td>\n",
       "      <td>5</td>\n",
       "      <td>12</td>\n",
       "      <td>2018</td>\n",
       "      <td>4</td>\n",
       "      <td>Wednesday</td>\n",
       "      <td>18</td>\n",
       "      <td>Rural</td>\n",
       "      <td>Dark - Not Lighted</td>\n",
       "      <td>Snow</td>\n",
       "      <td>1</td>\n",
       "      <td>2018-12-05</td>\n",
       "      <td>49</td>\n",
       "    </tr>\n",
       "    <tr>\n",
       "      <th>33913</th>\n",
       "      <td>Wyoming</td>\n",
       "      <td>15</td>\n",
       "      <td>12</td>\n",
       "      <td>2018</td>\n",
       "      <td>7</td>\n",
       "      <td>Saturday</td>\n",
       "      <td>14</td>\n",
       "      <td>Rural</td>\n",
       "      <td>Daylight</td>\n",
       "      <td>Clear</td>\n",
       "      <td>1</td>\n",
       "      <td>2018-12-15</td>\n",
       "      <td>50</td>\n",
       "    </tr>\n",
       "    <tr>\n",
       "      <th>33915</th>\n",
       "      <td>Wyoming</td>\n",
       "      <td>26</td>\n",
       "      <td>12</td>\n",
       "      <td>2018</td>\n",
       "      <td>4</td>\n",
       "      <td>Wednesday</td>\n",
       "      <td>10</td>\n",
       "      <td>Rural</td>\n",
       "      <td>Daylight</td>\n",
       "      <td>Sleet or Hail</td>\n",
       "      <td>1</td>\n",
       "      <td>2018-12-26</td>\n",
       "      <td>52</td>\n",
       "    </tr>\n",
       "    <tr>\n",
       "      <th>33916</th>\n",
       "      <td>Wyoming</td>\n",
       "      <td>11</td>\n",
       "      <td>12</td>\n",
       "      <td>2018</td>\n",
       "      <td>3</td>\n",
       "      <td>Tuesday</td>\n",
       "      <td>18</td>\n",
       "      <td>Rural</td>\n",
       "      <td>Dark - Not Lighted</td>\n",
       "      <td>Blowing Snow</td>\n",
       "      <td>1</td>\n",
       "      <td>2018-12-11</td>\n",
       "      <td>50</td>\n",
       "    </tr>\n",
       "  </tbody>\n",
       "</table>\n",
       "<p>24401 rows × 13 columns</p>\n",
       "</div>"
      ],
      "text/plain": [
       "      STATENAME  DAY  MONTH  YEAR  DAY_WEEK DAY_WEEKNAME  HOUR RUR_URBNAME  \\\n",
       "0       Alabama    5      1  2018         6       Friday     6       Rural   \n",
       "1       Alabama    8      1  2018         2       Monday     0       Urban   \n",
       "2       Alabama    8      1  2018         2       Monday    22       Rural   \n",
       "3       Alabama    9      1  2018         3      Tuesday    13       Rural   \n",
       "4       Alabama   19      1  2018         6       Friday     7       Urban   \n",
       "...         ...  ...    ...   ...       ...          ...   ...         ...   \n",
       "33911   Wyoming    8     10  2018         2       Monday     4       Rural   \n",
       "33912   Wyoming    5     12  2018         4    Wednesday    18       Rural   \n",
       "33913   Wyoming   15     12  2018         7     Saturday    14       Rural   \n",
       "33915   Wyoming   26     12  2018         4    Wednesday    10       Rural   \n",
       "33916   Wyoming   11     12  2018         3      Tuesday    18       Rural   \n",
       "\n",
       "             LGT_CONDNAME    WEATHERNAME  FATALS       DATE  WEEK_NUM  \n",
       "0                    Dawn          Clear       1 2018-01-05         1  \n",
       "1      Dark - Not Lighted           Rain       2 2018-01-08         2  \n",
       "2      Dark - Not Lighted         Cloudy       1 2018-01-08         2  \n",
       "3                Daylight         Cloudy       1 2018-01-09         2  \n",
       "4                Daylight          Clear       1 2018-01-19         3  \n",
       "...                   ...            ...     ...        ...       ...  \n",
       "33911  Dark - Not Lighted           Snow       1 2018-10-08        41  \n",
       "33912  Dark - Not Lighted           Snow       1 2018-12-05        49  \n",
       "33913            Daylight          Clear       1 2018-12-15        50  \n",
       "33915            Daylight  Sleet or Hail       1 2018-12-26        52  \n",
       "33916  Dark - Not Lighted   Blowing Snow       1 2018-12-11        50  \n",
       "\n",
       "[24401 rows x 13 columns]"
      ]
     },
     "execution_count": 8,
     "metadata": {},
     "output_type": "execute_result"
    }
   ],
   "source": [
    "sample_df"
   ]
  },
  {
   "cell_type": "code",
   "execution_count": 9,
   "metadata": {},
   "outputs": [
    {
     "data": {
      "image/png": "[encoded data removed]",
      "text/plain": [
       "<Figure size 432x288 with 1 Axes>"
      ]
     },
     "metadata": {
      "needs_background": "light"
     },
     "output_type": "display_data"
    },
    {
     "data": {
      "image/png": "[encoded data removed]",
      "text/plain": [
       "<Figure size 432x288 with 1 Axes>"
      ]
     },
     "metadata": {
      "needs_background": "light"
     },
     "output_type": "display_data"
    }
   ],
   "source": [
    "# this includes 48 states with DLS \n",
    "# week before \n",
    "start_date = '2018-03-04'\n",
    "end_date = '2018-03-10'\n",
    "\n",
    "sample_gb = sample_df.groupby(\"DATE\")\n",
    "summary = pd.DataFrame(sample_gb[\"FATALS\"].sum())\n",
    "summary.reset_index(inplace=True)\n",
    "summary.plot(x=\"DATE\", y=\"FATALS\", kind=\"line\")\n",
    "plt.xlim(start_date, end_date)\n",
    "plt.show()\n",
    "\n",
    "# week after DLS\n",
    "start_date = '2018-03-11'\n",
    "end_date = '2018-03-17'\n",
    "summary.plot(x=\"DATE\", y=\"FATALS\", kind=\"line\")\n",
    "plt.xlim(start_date, end_date)\n",
    "plt.show()"
   ]
  },
  {
   "cell_type": "code",
   "execution_count": null,
   "metadata": {},
   "outputs": [],
   "source": []
  },
  {
   "cell_type": "code",
   "execution_count": 10,
   "metadata": {},
   "outputs": [
    {
     "data": {
      "image/png": "[encoded data removed]",
      "text/plain": [
       "<Figure size 432x288 with 1 Axes>"
      ]
     },
     "metadata": {
      "needs_background": "light"
     },
     "output_type": "display_data"
    },
    {
     "data": {
      "image/png": "[encoded data removed]",
      "text/plain": [
       "<Figure size 432x288 with 1 Axes>"
      ]
     },
     "metadata": {
      "needs_background": "light"
     },
     "output_type": "display_data"
    }
   ],
   "source": [
    "# this is only HI and AZ without DLS\n",
    "# week before \n",
    "start_date = '2018-03-04'\n",
    "end_date = '2018-03-10'\n",
    "\n",
    "sample_gb = control_df.groupby(\"DATE\")\n",
    "summary = pd.DataFrame(sample_gb[\"FATALS\"].sum())\n",
    "summary.reset_index(inplace=True)\n",
    "summary.plot(x=\"DATE\", y=\"FATALS\", kind=\"line\")\n",
    "plt.xlim(start_date, end_date)\n",
    "plt.show()\n",
    "\n",
    "# week after \n",
    "start_date = pd.to_datetime('2018-03-11')\n",
    "end_date = pd.to_datetime('2018-03-17')\n",
    "\n",
    "sample_gb = control_df.groupby(\"DATE\")\n",
    "summary = pd.DataFrame(sample_gb[\"FATALS\"].sum())\n",
    "summary.reset_index(inplace=True)\n",
    "summary.plot(x=\"DATE\", y=\"FATALS\", kind=\"line\")\n",
    "plt.xlim(start_date, end_date)\n",
    "plt.show()"
   ]
  },
  {
   "cell_type": "code",
   "execution_count": 11,
   "metadata": {},
   "outputs": [
    {
     "data": {
      "image/png": "[encoded data removed]",
      "text/plain": [
       "<Figure size 432x288 with 1 Axes>"
      ]
     },
     "metadata": {
      "needs_background": "light"
     },
     "output_type": "display_data"
    },
    {
     "data": {
      "image/png": "[encoded data removed]",
      "text/plain": [
       "<Figure size 432x288 with 1 Axes>"
      ]
     },
     "metadata": {
      "needs_background": "light"
     },
     "output_type": "display_data"
    }
   ],
   "source": [
    "# now for November\n",
    "\n",
    "# This is only AZ and HI without DLS\n",
    "\n",
    "# week before\n",
    "start_date = pd.to_datetime('2018-10-28')\n",
    "end_date = pd.to_datetime('2018-11-03')\n",
    "\n",
    "sample_gb = control_df.groupby(\"DATE\")\n",
    "summary = pd.DataFrame(sample_gb[\"FATALS\"].sum())\n",
    "summary.reset_index(inplace=True)\n",
    "summary.plot(x=\"DATE\", y=\"FATALS\", kind=\"line\")\n",
    "plt.xlim(start_date, end_date)\n",
    "plt.show()\n",
    "\n",
    "# week after\n",
    "start_date = pd.to_datetime('2018-11-04')\n",
    "end_date = pd.to_datetime('2018-11-10')\n",
    "\n",
    "sample_gb = control_df.groupby(\"DATE\")\n",
    "summary = pd.DataFrame(sample_gb[\"FATALS\"].sum())\n",
    "summary.reset_index(inplace=True)\n",
    "summary.plot(x=\"DATE\", y=\"FATALS\", kind=\"line\")\n",
    "plt.xlim(start_date, end_date)\n",
    "plt.show()"
   ]
  },
  {
   "cell_type": "code",
   "execution_count": 12,
   "metadata": {},
   "outputs": [
    {
     "data": {
      "image/png": "[encoded data removed]",
      "text/plain": [
       "<Figure size 432x288 with 1 Axes>"
      ]
     },
     "metadata": {
      "needs_background": "light"
     },
     "output_type": "display_data"
    },
    {
     "data": {
      "image/png": "[encoded data removed]",
      "text/plain": [
       "<Figure size 432x288 with 1 Axes>"
      ]
     },
     "metadata": {
      "needs_background": "light"
     },
     "output_type": "display_data"
    }
   ],
   "source": [
    "# This includes 48 states with DLS\n",
    "\n",
    "# week before \n",
    "start_date = '2018-10-28'\n",
    "end_date = '2018-11-03'\n",
    "\n",
    "sample_gb = sample_df.groupby(\"DATE\")\n",
    "summary = pd.DataFrame(sample_gb[\"FATALS\"].sum())\n",
    "summary.reset_index(inplace=True)\n",
    "summary.plot(x=\"DATE\", y=\"FATALS\", kind=\"line\")\n",
    "plt.xlim(start_date, end_date)\n",
    "plt.show()\n",
    "\n",
    "# week after DLS\n",
    "start_date = '2018-11-04'\n",
    "end_date = '2018-11-10'\n",
    "summary.plot(x=\"DATE\", y=\"FATALS\", kind=\"line\")\n",
    "plt.xlim(start_date, end_date)\n",
    "plt.show()"
   ]
  },
  {
   "cell_type": "markdown",
   "metadata": {},
   "source": [
    "### REVIEW WEEK-OVER-WEEK CHANGE IN FATALITIES"
   ]
  },
  {
   "cell_type": "code",
   "execution_count": 24,
   "metadata": {},
   "outputs": [],
   "source": [
    "from scipy.stats import norm\n",
    "week_gb = sample_df.groupby(by=[\"WEEK_NUM\"])\n",
    "week_summary = pd.DataFrame(week_gb[\"FATALS\"].sum())\n",
    "#week_summary[\"WEEKLY_CHANGE\"]\n",
    "weekly_change = []\n",
    "\n",
    "for index, row in week_summary.iterrows(): # WE WANT DELTA! FOR EACH WEEK\n",
    "    if index==1:\n",
    "        weekly_change.append(np.nan)\n",
    "    else:\n",
    "        this_num = week_summary.loc[index, \"FATALS\"] # FATALITIES FROM THIS WEEK\n",
    "        last_num = week_summary.loc[index-1, \"FATALS\"] # FATALITIES FROM LAST WEEK\n",
    "        delta = (this_num / last_num) - 1\n",
    "        weekly_change.append(delta)\n",
    "week_summary[\"WEEKLY_CHANGE\"] = weekly_change\n",
    "week_summary[\"Z_SCORE\"] = st.zscore(weekly_change, nan_policy='omit')\n",
    "\n",
    "num_bins = 10\n",
    "\n",
    "weekly_change.remove(np.nan)\n",
    "mu, std = norm.fit(weekly_change)\n",
    "sigma = std"
   ]
  },
  {
   "cell_type": "code",
   "execution_count": 27,
   "metadata": {},
   "outputs": [
    {
     "name": "stderr",
     "output_type": "stream",
     "text": [
      "/Users/vieragarcia/opt/anaconda3/envs/pythondata/lib/python3.6/site-packages/numpy/lib/histograms.py:839: RuntimeWarning: invalid value encountered in greater_equal\n",
      "  keep = (tmp_a >= first_edge)\n",
      "/Users/vieragarcia/opt/anaconda3/envs/pythondata/lib/python3.6/site-packages/numpy/lib/histograms.py:840: RuntimeWarning: invalid value encountered in less_equal\n",
      "  keep &= (tmp_a <= last_edge)\n"
     ]
    },
    {
     "data": {
      "image/png": "[encoded data removed]",
      "text/plain": [
       "<Figure size 432x288 with 1 Axes>"
      ]
     },
     "metadata": {
      "needs_background": "light"
     },
     "output_type": "display_data"
    }
   ],
   "source": [
    "\n",
    "n, bins, patches = plt.hist(week_summary[\"WEEKLY_CHANGE\"],\n",
    "                   num_bins, density=True, color = 'green', \n",
    "                   edgecolor = 'darkgreen', alpha = 0.3)\n",
    "\n",
    "y = ((1 / (np.sqrt(2 * np.pi) * sigma)) *\n",
    "     np.exp(-0.5 * (1 / sigma * (bins - mu))**2))\n",
    "\n",
    "plt.plot(bins, y, '--', color ='black')\n",
    "\n",
    "plt.xlabel('Delta')\n",
    "plt.ylabel('Frequency')\n",
    "\n",
    "plt.title('Delta Distribution',\n",
    "          fontweight =\"bold\")\n",
    "\n",
    "\n",
    "  \n",
    "plt.show()"
   ]
  },
  {
   "cell_type": "code",
   "execution_count": 15,
   "metadata": {},
   "outputs": [
    {
     "ename": "AttributeError",
     "evalue": "'str' object has no attribute 'week'",
     "output_type": "error",
     "traceback": [
      "\u001b[0;31m---------------------------------------------------------------------------\u001b[0m",
      "\u001b[0;31mAttributeError\u001b[0m                            Traceback (most recent call last)",
      "\u001b[0;32m<ipython-input-15-801d4d6385dc>\u001b[0m in \u001b[0;36m<module>\u001b[0;34m\u001b[0m\n\u001b[0;32m----> 1\u001b[0;31m \u001b[0mstart_date\u001b[0m\u001b[0;34m.\u001b[0m\u001b[0mweek\u001b[0m \u001b[0;31m# <- this is going to be off! need to add 1\u001b[0m\u001b[0;34m\u001b[0m\u001b[0;34m\u001b[0m\u001b[0m\n\u001b[0m",
      "\u001b[0;31mAttributeError\u001b[0m: 'str' object has no attribute 'week'"
     ]
    }
   ],
   "source": [
    "start_date.week # <- this is going to be off! need to add 1\n"
   ]
  },
  {
   "cell_type": "code",
   "execution_count": null,
   "metadata": {},
   "outputs": [],
   "source": [
    "week_summary"
   ]
  },
  {
   "cell_type": "code",
   "execution_count": null,
   "metadata": {},
   "outputs": [],
   "source": [
    "sample_df[sample_df[\"WEEK_NUM\"]==11].sort_values(by=\"DATE\")"
   ]
  },
  {
   "cell_type": "code",
   "execution_count": null,
   "metadata": {},
   "outputs": [],
   "source": [
    "nov_start = pd.to_datetime(\"2018-11-03\")"
   ]
  },
  {
   "cell_type": "code",
   "execution_count": null,
   "metadata": {},
   "outputs": [],
   "source": [
    "sample_df[sample_df[\"WEEK_NUM\"]==45].sort_values(by=\"DATE\")"
   ]
  },
  {
   "cell_type": "code",
   "execution_count": null,
   "metadata": {},
   "outputs": [],
   "source": []
  }
 ],
 "metadata": {
  "kernelspec": {
   "display_name": "Python [conda env:PythonData]",
   "language": "python",
   "name": "conda-env-PythonData-py"
  },
  "language_info": {
   "codemirror_mode": {
    "name": "ipython",
    "version": 3
   },
   "file_extension": ".py",
   "mimetype": "text/x-python",
   "name": "python",
   "nbconvert_exporter": "python",
   "pygments_lexer": "ipython3",
   "version": "3.6.10"
  }
 },
 "nbformat": 4,
 "nbformat_minor": 5
}
