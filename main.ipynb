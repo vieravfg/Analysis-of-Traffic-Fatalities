{
 "cells": [
  {
   "cell_type": "markdown",
   "id": "directed-appointment",
   "metadata": {},
   "source": [
    "# Assessing the Impact of Daylight Savings Time on Driving Fatalities\n",
    "\n",
    "- Anastasiades, Andrew\n",
    "- Drozdzewicz, Peter\n",
    "- Garcia, Viera\n",
    "- Sperry, Taylor\n",
    "- Surapanemi, Sindhura"
   ]
  },
  {
   "cell_type": "markdown",
   "id": "increasing-pakistan",
   "metadata": {},
   "source": [
    "### DEPENDENCIES"
   ]
  },
  {
   "cell_type": "code",
   "execution_count": 1,
   "id": "optical-caution",
   "metadata": {},
   "outputs": [],
   "source": [
    "import pandas as pd #data manipulation\n",
    "import os #Interoperability\n",
    "import matplotlib.pyplot as plt\n",
    "import scipy.stats as st\n",
    "import numpy as np\n",
    "import datetime as dt"
   ]
  },
  {
   "cell_type": "markdown",
   "id": "forward-camera",
   "metadata": {},
   "source": [
    "### FILE PATHS"
   ]
  },
  {
   "cell_type": "code",
   "execution_count": 2,
   "id": "demonstrated-cambodia",
   "metadata": {},
   "outputs": [],
   "source": [
    "accident_csv = os.path.join(\"Resources\", \"2019.csv\")\n"
   ]
  },
  {
   "cell_type": "markdown",
   "id": "trying-brisbane",
   "metadata": {},
   "source": [
    "### LOAD DATAFRAME"
   ]
  },
  {
   "cell_type": "code",
   "execution_count": 3,
   "id": "hidden-smoke",
   "metadata": {},
   "outputs": [
    {
     "name": "stderr",
     "output_type": "stream",
     "text": [
      "/opt/anaconda3/envs/PythonData/lib/python3.6/site-packages/IPython/core/interactiveshell.py:3072: DtypeWarning: Columns (40,42,69) have mixed types.Specify dtype option on import or set low_memory=False.\n",
      "  interactivity=interactivity, compiler=compiler, result=result)\n"
     ]
    },
    {
     "data": {
      "text/plain": [
       "Index(['STATE', 'STATENAME', 'ST_CASE', 'VE_TOTAL', 'VE_FORMS', 'PVH_INVL',\n",
       "       'PEDS', 'PERSONS', 'PERMVIT', 'PERNOTMVIT', 'COUNTY', 'COUNTYNAME',\n",
       "       'CITY', 'CITYNAME', 'DAY', 'DAYNAME', 'MONTH', 'MONTHNAME', 'YEAR',\n",
       "       'DAY_WEEK', 'DAY_WEEKNAME', 'HOUR', 'HOURNAME', 'MINUTE', 'MINUTENAME',\n",
       "       'NHS', 'NHSNAME', 'ROUTE', 'ROUTENAME', 'TWAY_ID', 'TWAY_ID2',\n",
       "       'RUR_URB', 'RUR_URBNAME', 'FUNC_SYS', 'FUNC_SYSNAME', 'RD_OWNER',\n",
       "       'RD_OWNERNAME', 'MILEPT', 'MILEPTNAME', 'LATITUDE', 'LATITUDENAME',\n",
       "       'LONGITUD', 'LONGITUDNAME', 'SP_JUR', 'SP_JURNAME', 'HARM_EV',\n",
       "       'HARM_EVNAME', 'MAN_COLL', 'MAN_COLLNAME', 'RELJCT1', 'RELJCT1NAME',\n",
       "       'RELJCT2', 'RELJCT2NAME', 'TYP_INT', 'TYP_INTNAME', 'WRK_ZONE',\n",
       "       'WRK_ZONENAME', 'REL_ROAD', 'REL_ROADNAME', 'LGT_COND', 'LGT_CONDNAME',\n",
       "       'WEATHER1', 'WEATHER1NAME', 'WEATHER2', 'WEATHER2NAME', 'WEATHER',\n",
       "       'WEATHERNAME', 'SCH_BUS', 'SCH_BUSNAME', 'RAIL', 'RAILNAME', 'NOT_HOUR',\n",
       "       'NOT_HOURNAME', 'NOT_MIN', 'NOT_MINNAME', 'ARR_HOUR', 'ARR_HOURNAME',\n",
       "       'ARR_MIN', 'ARR_MINNAME', 'HOSP_HR', 'HOSP_HRNAME', 'HOSP_MN',\n",
       "       'HOSP_MNNAME', 'CF1', 'CF1NAME', 'CF2', 'CF2NAME', 'CF3', 'CF3NAME',\n",
       "       'FATALS', 'DRUNK_DR'],\n",
       "      dtype='object')"
      ]
     },
     "execution_count": 3,
     "metadata": {},
     "output_type": "execute_result"
    }
   ],
   "source": [
    "raw_df = pd.read_csv(accident_csv) #We won't keep this in the final code\n",
    "raw_df.columns"
   ]
  },
  {
   "cell_type": "code",
   "execution_count": 4,
   "id": "regulated-prophet",
   "metadata": {},
   "outputs": [],
   "source": [
    "columns_to_keep = ['STATENAME', 'DAY', 'MONTH','YEAR','HOUR','DAY_WEEK','DAY_WEEKNAME', 'LGT_CONDNAME',\n",
    "                   'DRUNK_DR', 'WEATHERNAME', 'RUR_URBNAME', 'FATALS',]\n",
    "df = pd.read_csv(accident_csv, usecols=columns_to_keep)"
   ]
  },
  {
   "cell_type": "markdown",
   "id": "stainless-angel",
   "metadata": {},
   "source": [
    "### CLEAN DATAFRAME"
   ]
  },
  {
   "cell_type": "code",
   "execution_count": 5,
   "id": "unusual-nerve",
   "metadata": {},
   "outputs": [],
   "source": [
    "# EXCLUDE DRUNK DRIVERS #Why do we do this?\n",
    "df = df[df[\"DRUNK_DR\"]==0] \n",
    "df.drop(axis=1, labels=[\"DRUNK_DR\"], inplace=True)"
   ]
  },
  {
   "cell_type": "code",
   "execution_count": null,
   "id": "correct-arrest",
   "metadata": {},
   "outputs": [],
   "source": [
    "# ADD DATE AND WEEKNUM\n",
    "# We do this so we can compare week to week changes\n",
    "df[\"DATE\"] = pd.to_datetime(df[[\"YEAR\", \"MONTH\", \"DAY\"]])\n",
    "#df[\"WEEK_NUM\"] = df[\"DATE\"].dt.week\n",
    "df['WEEK_NUM'] = df['DATE'].apply(lambda x: (x + dt.timedelta(days=1)).week)"
   ]
  },
  {
   "cell_type": "code",
   "execution_count": null,
   "id": "molecular-search",
   "metadata": {},
   "outputs": [],
   "source": [
    "# SPLIT SAMPLE AND CONTROL\n",
    "control_states = [\"Arizona\", \"Hawaii\"] #These states do not observe DLS\n",
    "control_df = df[df.loc[:,'STATENAME'].isin(control_states)] #NO DLS\n",
    "sample_df = df[~df.loc[:,'STATENAME'].isin(control_states)] #"
   ]
  },
  {
   "cell_type": "code",
   "execution_count": null,
   "id": "consolidated-approach",
   "metadata": {},
   "outputs": [],
   "source": [
    "sample_df"
   ]
  },
  {
   "cell_type": "code",
   "execution_count": null,
   "id": "concerned-controversy",
   "metadata": {},
   "outputs": [],
   "source": [
    "start_date = '2019-03-03'\n",
    "end_date = '2019-03-09'\n",
    "\n",
    "sample_gb = sample_df.groupby(\"DATE\")\n",
    "summary = pd.DataFrame(sample_gb[\"FATALS\"].sum())\n",
    "summary.reset_index(inplace=True)\n",
    "summary.plot(x=\"DATE\", y=\"FATALS\", kind=\"line\")\n",
    "plt.xlim(start_date, end_date)\n",
    "plt.show()"
   ]
  },
  {
   "cell_type": "code",
   "execution_count": null,
   "id": "coastal-official",
   "metadata": {},
   "outputs": [],
   "source": [
    "start_date = '2019-03-10'\n",
    "end_date = '2019-03-16'\n",
    "summary.plot(x=\"DATE\", y=\"FATALS\", kind=\"line\")\n",
    "plt.xlim(start_date, end_date)\n",
    "plt.show()"
   ]
  },
  {
   "cell_type": "code",
   "execution_count": null,
   "id": "collected-crash",
   "metadata": {},
   "outputs": [],
   "source": [
    "start_date = '2019-03-03'\n",
    "end_date = '2019-03-09'\n",
    "\n",
    "sample_gb = control_df.groupby(\"DATE\")\n",
    "summary = pd.DataFrame(sample_gb[\"FATALS\"].sum())\n",
    "summary.reset_index(inplace=True)\n",
    "summary.plot(x=\"DATE\", y=\"FATALS\", kind=\"line\")\n",
    "plt.xlim(start_date, end_date)\n",
    "plt.show()"
   ]
  },
  {
   "cell_type": "code",
   "execution_count": null,
   "id": "indirect-hamburg",
   "metadata": {},
   "outputs": [],
   "source": [
    "start_date = pd.to_datetime('2019-03-10')\n",
    "end_date = pd.to_datetime('2019-03-16')\n",
    "\n",
    "sample_gb = control_df.groupby(\"DATE\")\n",
    "summary = pd.DataFrame(sample_gb[\"FATALS\"].sum())\n",
    "summary.reset_index(inplace=True)\n",
    "summary.plot(x=\"DATE\", y=\"FATALS\", kind=\"line\")\n",
    "plt.xlim(start_date, end_date)\n",
    "plt.show()"
   ]
  },
  {
   "cell_type": "markdown",
   "id": "mexican-toronto",
   "metadata": {},
   "source": [
    "### REVIEW WEEK-OVER-WEEK CHANGE IN FATALITIES"
   ]
  },
  {
   "cell_type": "code",
   "execution_count": null,
   "id": "involved-portsmouth",
   "metadata": {},
   "outputs": [],
   "source": [
    "week_gb = sample_df.groupby(by=[\"WEEK_NUM\"])\n",
    "week_summary = pd.DataFrame(week_gb[\"FATALS\"].sum())\n",
    "#week_summary[\"WEEKLY_CHANGE\"]\n",
    "weekly_change = []\n",
    "for index, row in week_summary.iterrows(): # WE WANT DELTA! FOR EACH WEEK\n",
    "    if index==1:\n",
    "        weekly_change.append(np.nan)\n",
    "    else:\n",
    "        this_num = week_summary.loc[index, \"FATALS\"] # FATALITIES FROM THIS WEEK\n",
    "        last_num = week_summary.loc[index-1, \"FATALS\"] # FATALITIES FROM LAST WEEK\n",
    "        delta = (this_num / last_num) - 1\n",
    "        weekly_change.append(delta)\n",
    "week_summary[\"WEEKLY_CHANGE\"] = weekly_change\n",
    "week_summary[\"Z_SCORE\"] = st.zscore(weekly_change, nan_policy='omit')\n",
    "plt.hist(week_summary[\"WEEKLY_CHANGE\"], density=True)\n"
   ]
  },
  {
   "cell_type": "code",
   "execution_count": null,
   "id": "victorian-worthy",
   "metadata": {},
   "outputs": [],
   "source": [
    "start_date.week # <- this is going to be off! need to add 1\n"
   ]
  },
  {
   "cell_type": "code",
   "execution_count": null,
   "id": "fifty-shell",
   "metadata": {},
   "outputs": [],
   "source": [
    "week_summary"
   ]
  },
  {
   "cell_type": "code",
   "execution_count": null,
   "id": "veterinary-access",
   "metadata": {},
   "outputs": [],
   "source": [
    "sample_df[sample_df[\"WEEK_NUM\"]==11].sort_values(by=\"DATE\")"
   ]
  },
  {
   "cell_type": "code",
   "execution_count": null,
   "id": "laden-running",
   "metadata": {},
   "outputs": [],
   "source": [
    "nov_start = pd.to_datetime(\"2019-11-03\")"
   ]
  },
  {
   "cell_type": "code",
   "execution_count": null,
   "id": "secondary-testament",
   "metadata": {},
   "outputs": [],
   "source": [
    "sample_df[sample_df[\"WEEK_NUM\"]==45].sort_values(by=\"DATE\")"
   ]
  },
  {
   "cell_type": "code",
   "execution_count": null,
   "id": "awful-highway",
   "metadata": {},
   "outputs": [],
   "source": []
  }
 ],
 "metadata": {
  "kernelspec": {
   "display_name": "Python [conda env:PythonData] *",
   "language": "python",
   "name": "conda-env-PythonData-py"
  },
  "language_info": {
   "codemirror_mode": {
    "name": "ipython",
    "version": 3
   },
   "file_extension": ".py",
   "mimetype": "text/x-python",
   "name": "python",
   "nbconvert_exporter": "python",
   "pygments_lexer": "ipython3",
   "version": "3.6.10"
  }
 },
 "nbformat": 4,
 "nbformat_minor": 5
}
