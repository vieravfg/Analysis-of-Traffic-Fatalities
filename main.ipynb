{
 "cells": [
  {
   "cell_type": "markdown",
   "id": "defensive-piece",
   "metadata": {},
   "source": [
    "# Assessing the Impact of Daylight Savings Time on Driving Fatalities\n",
    "\n",
    "- Anastasiades, Andrew\n",
    "- Drozdzewicz, Peter\n",
    "- Garcia, Viera\n",
    "- Sperry, Taylor\n",
    "- Surapanemi, Sindhura"
   ]
  },
  {
   "cell_type": "code",
   "execution_count": 3,
   "id": "fifth-canadian",
   "metadata": {},
   "outputs": [],
   "source": [
    "# DEPENDENCIES\n",
    "import pandas as pd #data manipulation\n",
    "import os #Interoperability"
   ]
  },
  {
   "cell_type": "code",
   "execution_count": 8,
   "id": "metallic-gregory",
   "metadata": {},
   "outputs": [],
   "source": [
    "# FILE PATHS\n",
    "accident_csv = os.path.join(\"Resources\", \"accident.csv\")"
   ]
  },
  {
   "cell_type": "code",
   "execution_count": 13,
   "id": "polished-watts",
   "metadata": {},
   "outputs": [
    {
     "name": "stderr",
     "output_type": "stream",
     "text": [
      "/opt/anaconda3/envs/PythonData/lib/python3.6/site-packages/IPython/core/interactiveshell.py:3072: DtypeWarning: Columns (40,42,69) have mixed types.Specify dtype option on import or set low_memory=False.\n",
      "  interactivity=interactivity, compiler=compiler, result=result)\n"
     ]
    }
   ],
   "source": [
    "# IMPORT CSV\n",
    "raw_df = pd.read_csv(accident_csv)\n",
    "#"
   ]
  },
  {
   "cell_type": "code",
   "execution_count": 18,
   "id": "incident-terror",
   "metadata": {},
   "outputs": [
    {
     "data": {
      "text/plain": [
       "'LATITUDENAME'"
      ]
     },
     "execution_count": 18,
     "metadata": {},
     "output_type": "execute_result"
    }
   ],
   "source": [
    "raw_df.columns[40]"
   ]
  },
  {
   "cell_type": "code",
   "execution_count": 19,
   "id": "collectible-retirement",
   "metadata": {},
   "outputs": [
    {
     "data": {
      "text/plain": [
       "'LONGITUDNAME'"
      ]
     },
     "execution_count": 19,
     "metadata": {},
     "output_type": "execute_result"
    }
   ],
   "source": [
    "raw_df.columns[42]"
   ]
  },
  {
   "cell_type": "code",
   "execution_count": 20,
   "id": "silver-numbers",
   "metadata": {},
   "outputs": [
    {
     "data": {
      "text/plain": [
       "'RAIL'"
      ]
     },
     "execution_count": 20,
     "metadata": {},
     "output_type": "execute_result"
    }
   ],
   "source": [
    "raw_df.columns[69]"
   ]
  },
  {
   "cell_type": "code",
   "execution_count": 21,
   "id": "brief-worcester",
   "metadata": {},
   "outputs": [
    {
     "data": {
      "text/plain": [
       "Reported as Unknown    54\n",
       "Not Reported           14\n",
       "28.35696111             3\n",
       "28.75075                3\n",
       "28.50268889             3\n",
       "                       ..\n",
       "40.67263056             1\n",
       "30.246725               1\n",
       "39.5949                 1\n",
       "34.33158889             1\n",
       "27.99526944             1\n",
       "Name: LATITUDENAME, Length: 33006, dtype: int64"
      ]
     },
     "execution_count": 21,
     "metadata": {},
     "output_type": "execute_result"
    }
   ],
   "source": [
    "raw_df['LATITUDENAME'].value_counts()"
   ]
  },
  {
   "cell_type": "code",
   "execution_count": null,
   "id": "duplicate-hollow",
   "metadata": {},
   "outputs": [],
   "source": []
  }
 ],
 "metadata": {
  "kernelspec": {
   "display_name": "Python [conda env:PythonData] *",
   "language": "python",
   "name": "conda-env-PythonData-py"
  },
  "language_info": {
   "codemirror_mode": {
    "name": "ipython",
    "version": 3
   },
   "file_extension": ".py",
   "mimetype": "text/x-python",
   "name": "python",
   "nbconvert_exporter": "python",
   "pygments_lexer": "ipython3",
   "version": "3.6.10"
  }
 },
 "nbformat": 4,
 "nbformat_minor": 5
}
