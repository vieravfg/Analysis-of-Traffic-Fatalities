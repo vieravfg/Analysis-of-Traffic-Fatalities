{
 "cells": [
  {
   "cell_type": "markdown",
   "id": "historic-carnival",
   "metadata": {},
   "source": [
    "# Assessing the Impact of Daylight Savings Time on Driving Fatalities\n",
    "\n",
    "- Anastasiades, Andrew\n",
    "- Drozdzewicz, Peter\n",
    "- Garcia, Viera\n",
    "- Sperry, Taylor\n",
    "- Surapanemi, Sindhura"
   ]
  },
  {
   "cell_type": "markdown",
   "id": "motivated-translator",
   "metadata": {},
   "source": [
    "### DEPENDENCIES"
   ]
  },
  {
   "cell_type": "code",
   "execution_count": 3,
   "id": "hundred-highway",
   "metadata": {},
   "outputs": [],
   "source": [
    "import pandas as pd #data manipulation\n",
    "import os #Interoperability"
   ]
  },
  {
   "cell_type": "markdown",
   "id": "stunning-statistics",
   "metadata": {},
   "source": [
    "### FILE PATHS"
   ]
  },
  {
   "cell_type": "code",
   "execution_count": 8,
   "id": "oriented-bottle",
   "metadata": {},
   "outputs": [],
   "source": [
    "accident_csv = os.path.join(\"Resources\", \"accident.csv\")"
   ]
  },
  {
   "cell_type": "markdown",
   "id": "patent-individual",
   "metadata": {},
   "source": [
    "### LOAD DATAFRAME"
   ]
  },
  {
   "cell_type": "code",
   "execution_count": 120,
   "id": "polished-scanner",
   "metadata": {},
   "outputs": [],
   "source": [
    "columns_to_keep = ['STATENAME', 'DAY', 'MONTH', 'LGT_CONDNAME', 'DRUNK_DR', 'WEATHERNAME', 'RUR_URBNAME']\n",
    "df = pd.read_csv(accident_csv, usecols=columns_to_keep)\n",
    "#\n",
    "df = df[df[\"DRUNK_DR\"]==0] # EXCLUDE DRUNK DRIVERS\n"
   ]
  },
  {
   "cell_type": "code",
   "execution_count": 114,
   "id": "historical-bibliography",
   "metadata": {},
   "outputs": [
    {
     "data": {
      "text/plain": [
       "Urban                                14025\n",
       "Rural                                10706\n",
       "Trafficway Not in State Inventory       60\n",
       "Unknown                                 37\n",
       "Not Reported                             5\n",
       "Name: RUR_URBNAME, dtype: int64"
      ]
     },
     "execution_count": 114,
     "metadata": {},
     "output_type": "execute_result"
    }
   ],
   "source": [
    "\n"
   ]
  },
  {
   "cell_type": "code",
   "execution_count": 101,
   "id": "honest-retailer",
   "metadata": {},
   "outputs": [
    {
     "data": {
      "text/plain": [
       "1    23227\n",
       "2     1358\n",
       "3      192\n",
       "4       42\n",
       "5       10\n",
       "7        2\n",
       "8        1\n",
       "6        1\n",
       "Name: FATALS, dtype: int64"
      ]
     },
     "execution_count": 101,
     "metadata": {},
     "output_type": "execute_result"
    }
   ],
   "source": [
    "df[\"FATALS\"].value_counts()"
   ]
  },
  {
   "cell_type": "code",
   "execution_count": 19,
   "id": "rolled-charleston",
   "metadata": {},
   "outputs": [
    {
     "data": {
      "text/plain": [
       "'LONGITUDNAME'"
      ]
     },
     "execution_count": 19,
     "metadata": {},
     "output_type": "execute_result"
    }
   ],
   "source": [
    "raw_df.columns[42]"
   ]
  },
  {
   "cell_type": "code",
   "execution_count": 38,
   "id": "rational-inventory",
   "metadata": {},
   "outputs": [
    {
     "data": {
      "text/plain": [
       "'RAILNAME'"
      ]
     },
     "execution_count": 38,
     "metadata": {},
     "output_type": "execute_result"
    }
   ],
   "source": [
    "raw_df.columns[69]"
   ]
  },
  {
   "cell_type": "code",
   "execution_count": 21,
   "id": "spoken-angola",
   "metadata": {},
   "outputs": [
    {
     "data": {
      "text/plain": [
       "Reported as Unknown    54\n",
       "Not Reported           14\n",
       "28.35696111             3\n",
       "28.75075                3\n",
       "28.50268889             3\n",
       "                       ..\n",
       "40.67263056             1\n",
       "30.246725               1\n",
       "39.5949                 1\n",
       "34.33158889             1\n",
       "27.99526944             1\n",
       "Name: LATITUDENAME, Length: 33006, dtype: int64"
      ]
     },
     "execution_count": 21,
     "metadata": {},
     "output_type": "execute_result"
    }
   ],
   "source": [
    "raw_df['LATITUDENAME'].value_counts()"
   ]
  },
  {
   "cell_type": "code",
   "execution_count": 119,
   "id": "celtic-examination",
   "metadata": {},
   "outputs": [
    {
     "data": {
      "text/plain": [
       "California              3316\n",
       "Texas                   3294\n",
       "Florida                 2950\n",
       "Georgia                 1377\n",
       "North Carolina          1284\n",
       "Tennessee               1040\n",
       "Ohio                    1039\n",
       "Pennsylvania             990\n",
       "Illinois                 938\n",
       "South Carolina           922\n",
       "Arizona                  910\n",
       "Michigan                 902\n",
       "New York                 876\n",
       "Alabama                  856\n",
       "Missouri                 818\n",
       "Virginia                 774\n",
       "Indiana                  751\n",
       "Louisiana                681\n",
       "Kentucky                 667\n",
       "Oklahoma                 584\n",
       "Mississippi              581\n",
       "Colorado                 544\n",
       "Wisconsin                526\n",
       "New Jersey               525\n",
       "Washington               494\n",
       "Maryland                 484\n",
       "Arkansas                 467\n",
       "Oregon                   451\n",
       "New Mexico               368\n",
       "Kansas                   362\n",
       "Minnesota                333\n",
       "Massachusetts            321\n",
       "Iowa                     313\n",
       "Nevada                   285\n",
       "West Virginia            247\n",
       "Connecticut              233\n",
       "Utah                     225\n",
       "Nebraska                 212\n",
       "Idaho                    201\n",
       "Montana                  166\n",
       "Maine                    143\n",
       "Delaware                 122\n",
       "Wyoming                  120\n",
       "Hawaii                   102\n",
       "North Dakota              91\n",
       "New Hampshire             90\n",
       "South Dakota              88\n",
       "Alaska                    62\n",
       "Rhode Island              53\n",
       "Vermont                   44\n",
       "District of Columbia      22\n",
       "Name: STATENAME, dtype: int64"
      ]
     },
     "execution_count": 119,
     "metadata": {},
     "output_type": "execute_result"
    }
   ],
   "source": [
    "raw_df['STATENAME'].value_counts()"
   ]
  },
  {
   "cell_type": "code",
   "execution_count": 118,
   "id": "afraid-champagne",
   "metadata": {},
   "outputs": [
    {
     "data": {
      "text/plain": [
       "August       2268\n",
       "October      2260\n",
       "September    2254\n",
       "July         2211\n",
       "May          2152\n",
       "November     2147\n",
       "June         2124\n",
       "December     2023\n",
       "April        1934\n",
       "January      1907\n",
       "March        1868\n",
       "February     1685\n",
       "Name: MONTHNAME, dtype: int64"
      ]
     },
     "execution_count": 118,
     "metadata": {},
     "output_type": "execute_result"
    }
   ],
   "source": [
    "df[\"MONTHNAME\"].value_counts()"
   ]
  },
  {
   "cell_type": "code",
   "execution_count": null,
   "id": "dietary-reminder",
   "metadata": {},
   "outputs": [],
   "source": []
  }
 ],
 "metadata": {
  "kernelspec": {
   "display_name": "Python [conda env:PythonData] *",
   "language": "python",
   "name": "conda-env-PythonData-py"
  },
  "language_info": {
   "codemirror_mode": {
    "name": "ipython",
    "version": 3
   },
   "file_extension": ".py",
   "mimetype": "text/x-python",
   "name": "python",
   "nbconvert_exporter": "python",
   "pygments_lexer": "ipython3",
   "version": "3.6.10"
  }
 },
 "nbformat": 4,
 "nbformat_minor": 5
}
