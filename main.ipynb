{
 "cells": [
  {
   "cell_type": "markdown",
   "id": "structural-citizen",
   "metadata": {},
   "source": [
    "# Assessing the Impact of Daylight Savings Time on Driving Fatalities\n",
    "\n",
    "- Anastasiades, Andrew\n",
    "- Drozdzewicz, Peter\n",
    "- Garcia, Viera\n",
    "- Sperry, Taylor\n",
    "- Surapanemi, Sindhura"
   ]
  },
  {
   "cell_type": "markdown",
   "id": "fallen-arkansas",
   "metadata": {},
   "source": [
    "### DEPENDENCIES"
   ]
  },
  {
   "cell_type": "code",
   "execution_count": 1,
   "id": "sudden-touch",
   "metadata": {},
   "outputs": [],
   "source": [
    "import pandas as pd #data manipulation\n",
    "import os #Interoperability\n",
    "import matplotlib.pyplot as plt"
   ]
  },
  {
   "cell_type": "markdown",
   "id": "automatic-discipline",
   "metadata": {},
   "source": [
    "### FILE PATHS"
   ]
  },
  {
   "cell_type": "code",
   "execution_count": 2,
   "id": "right-conditions",
   "metadata": {},
   "outputs": [],
   "source": [
    "accident_csv = os.path.join(\"Resources\", \"accident.csv\")"
   ]
  },
  {
   "cell_type": "markdown",
   "id": "atlantic-clear",
   "metadata": {},
   "source": [
    "### LOAD DATAFRAME"
   ]
  },
  {
   "cell_type": "code",
   "execution_count": 3,
   "id": "mexican-blend",
   "metadata": {},
   "outputs": [
    {
     "name": "stderr",
     "output_type": "stream",
     "text": [
      "/opt/anaconda3/envs/PythonData/lib/python3.6/site-packages/IPython/core/interactiveshell.py:3072: DtypeWarning: Columns (40,42,69) have mixed types.Specify dtype option on import or set low_memory=False.\n",
      "  interactivity=interactivity, compiler=compiler, result=result)\n"
     ]
    },
    {
     "data": {
      "text/plain": [
       "Index(['STATE', 'STATENAME', 'ST_CASE', 'VE_TOTAL', 'VE_FORMS', 'PVH_INVL',\n",
       "       'PEDS', 'PERSONS', 'PERMVIT', 'PERNOTMVIT', 'COUNTY', 'COUNTYNAME',\n",
       "       'CITY', 'CITYNAME', 'DAY', 'DAYNAME', 'MONTH', 'MONTHNAME', 'YEAR',\n",
       "       'DAY_WEEK', 'DAY_WEEKNAME', 'HOUR', 'HOURNAME', 'MINUTE', 'MINUTENAME',\n",
       "       'NHS', 'NHSNAME', 'ROUTE', 'ROUTENAME', 'TWAY_ID', 'TWAY_ID2',\n",
       "       'RUR_URB', 'RUR_URBNAME', 'FUNC_SYS', 'FUNC_SYSNAME', 'RD_OWNER',\n",
       "       'RD_OWNERNAME', 'MILEPT', 'MILEPTNAME', 'LATITUDE', 'LATITUDENAME',\n",
       "       'LONGITUD', 'LONGITUDNAME', 'SP_JUR', 'SP_JURNAME', 'HARM_EV',\n",
       "       'HARM_EVNAME', 'MAN_COLL', 'MAN_COLLNAME', 'RELJCT1', 'RELJCT1NAME',\n",
       "       'RELJCT2', 'RELJCT2NAME', 'TYP_INT', 'TYP_INTNAME', 'WRK_ZONE',\n",
       "       'WRK_ZONENAME', 'REL_ROAD', 'REL_ROADNAME', 'LGT_COND', 'LGT_CONDNAME',\n",
       "       'WEATHER1', 'WEATHER1NAME', 'WEATHER2', 'WEATHER2NAME', 'WEATHER',\n",
       "       'WEATHERNAME', 'SCH_BUS', 'SCH_BUSNAME', 'RAIL', 'RAILNAME', 'NOT_HOUR',\n",
       "       'NOT_HOURNAME', 'NOT_MIN', 'NOT_MINNAME', 'ARR_HOUR', 'ARR_HOURNAME',\n",
       "       'ARR_MIN', 'ARR_MINNAME', 'HOSP_HR', 'HOSP_HRNAME', 'HOSP_MN',\n",
       "       'HOSP_MNNAME', 'CF1', 'CF1NAME', 'CF2', 'CF2NAME', 'CF3', 'CF3NAME',\n",
       "       'FATALS', 'DRUNK_DR'],\n",
       "      dtype='object')"
      ]
     },
     "execution_count": 3,
     "metadata": {},
     "output_type": "execute_result"
    }
   ],
   "source": [
    "raw_df = pd.read_csv(accident_csv)\n",
    "raw_df.columns"
   ]
  },
  {
   "cell_type": "code",
   "execution_count": 4,
   "id": "intelligent-boxing",
   "metadata": {},
   "outputs": [],
   "source": [
    "columns_to_keep = ['STATENAME', 'DAY', 'MONTH','YEAR','HOUR','DAY_WEEK','DAY_WEEKNAME', 'LGT_CONDNAME',\n",
    "                   'DRUNK_DR', 'WEATHERNAME', 'RUR_URBNAME', 'FATALS',]\n",
    "df = pd.read_csv(accident_csv, usecols=columns_to_keep)"
   ]
  },
  {
   "cell_type": "markdown",
   "id": "visible-weather",
   "metadata": {},
   "source": [
    "### CLEAN DATAFRAME"
   ]
  },
  {
   "cell_type": "code",
   "execution_count": 5,
   "id": "gross-printer",
   "metadata": {},
   "outputs": [],
   "source": [
    "# EXCLUDE DRUNK DRIVERS\n",
    "df = df[df[\"DRUNK_DR\"]==0] \n",
    "df.drop(axis=1, labels=[\"DRUNK_DR\"], inplace=True)"
   ]
  },
  {
   "cell_type": "code",
   "execution_count": 6,
   "id": "dependent-string",
   "metadata": {},
   "outputs": [],
   "source": [
    "# ADD DATE AND WEEKNUM\n",
    "df[\"DATE\"] = pd.to_datetime(df[[\"YEAR\", \"MONTH\", \"DAY\"]])\n",
    "df[\"WEEK_NUM\"] = df[\"DATE\"].dt.week"
   ]
  },
  {
   "cell_type": "code",
   "execution_count": 7,
   "id": "visible-polyester",
   "metadata": {},
   "outputs": [],
   "source": [
    "# SPLIT SAMPLE AND CONTROL\n",
    "control_states = [\"Arizona\", \"Hawaii\"] #These states do not observe DLS\n",
    "control_df = df[df.loc[:,'STATENAME'].isin(control_states)] #NO DLS\n",
    "sample_df = df[~df.loc[:,'STATENAME'].isin(control_states)] #"
   ]
  },
  {
   "cell_type": "code",
   "execution_count": 8,
   "id": "dynamic-permit",
   "metadata": {},
   "outputs": [
    {
     "data": {
      "text/html": [
       "<div>\n",
       "<style scoped>\n",
       "    .dataframe tbody tr th:only-of-type {\n",
       "        vertical-align: middle;\n",
       "    }\n",
       "\n",
       "    .dataframe tbody tr th {\n",
       "        vertical-align: top;\n",
       "    }\n",
       "\n",
       "    .dataframe thead th {\n",
       "        text-align: right;\n",
       "    }\n",
       "</style>\n",
       "<table border=\"1\" class=\"dataframe\">\n",
       "  <thead>\n",
       "    <tr style=\"text-align: right;\">\n",
       "      <th></th>\n",
       "      <th>STATENAME</th>\n",
       "      <th>DAY</th>\n",
       "      <th>MONTH</th>\n",
       "      <th>YEAR</th>\n",
       "      <th>DAY_WEEK</th>\n",
       "      <th>DAY_WEEKNAME</th>\n",
       "      <th>HOUR</th>\n",
       "      <th>RUR_URBNAME</th>\n",
       "      <th>LGT_CONDNAME</th>\n",
       "      <th>WEATHERNAME</th>\n",
       "      <th>FATALS</th>\n",
       "      <th>DATE</th>\n",
       "      <th>WEEK_NUM</th>\n",
       "    </tr>\n",
       "  </thead>\n",
       "  <tbody>\n",
       "    <tr>\n",
       "      <th>1</th>\n",
       "      <td>Alabama</td>\n",
       "      <td>23</td>\n",
       "      <td>1</td>\n",
       "      <td>2019</td>\n",
       "      <td>4</td>\n",
       "      <td>Wednesday</td>\n",
       "      <td>18</td>\n",
       "      <td>Urban</td>\n",
       "      <td>Dark - Not Lighted</td>\n",
       "      <td>Rain</td>\n",
       "      <td>1</td>\n",
       "      <td>2019-01-23</td>\n",
       "      <td>4</td>\n",
       "    </tr>\n",
       "    <tr>\n",
       "      <th>2</th>\n",
       "      <td>Alabama</td>\n",
       "      <td>22</td>\n",
       "      <td>1</td>\n",
       "      <td>2019</td>\n",
       "      <td>3</td>\n",
       "      <td>Tuesday</td>\n",
       "      <td>19</td>\n",
       "      <td>Rural</td>\n",
       "      <td>Dark - Not Lighted</td>\n",
       "      <td>Cloudy</td>\n",
       "      <td>1</td>\n",
       "      <td>2019-01-22</td>\n",
       "      <td>4</td>\n",
       "    </tr>\n",
       "    <tr>\n",
       "      <th>3</th>\n",
       "      <td>Alabama</td>\n",
       "      <td>22</td>\n",
       "      <td>1</td>\n",
       "      <td>2019</td>\n",
       "      <td>3</td>\n",
       "      <td>Tuesday</td>\n",
       "      <td>3</td>\n",
       "      <td>Rural</td>\n",
       "      <td>Dark - Not Lighted</td>\n",
       "      <td>Clear</td>\n",
       "      <td>1</td>\n",
       "      <td>2019-01-22</td>\n",
       "      <td>4</td>\n",
       "    </tr>\n",
       "    <tr>\n",
       "      <th>5</th>\n",
       "      <td>Alabama</td>\n",
       "      <td>7</td>\n",
       "      <td>1</td>\n",
       "      <td>2019</td>\n",
       "      <td>2</td>\n",
       "      <td>Monday</td>\n",
       "      <td>12</td>\n",
       "      <td>Rural</td>\n",
       "      <td>Daylight</td>\n",
       "      <td>Clear</td>\n",
       "      <td>1</td>\n",
       "      <td>2019-01-07</td>\n",
       "      <td>2</td>\n",
       "    </tr>\n",
       "    <tr>\n",
       "      <th>6</th>\n",
       "      <td>Alabama</td>\n",
       "      <td>2</td>\n",
       "      <td>1</td>\n",
       "      <td>2019</td>\n",
       "      <td>4</td>\n",
       "      <td>Wednesday</td>\n",
       "      <td>9</td>\n",
       "      <td>Rural</td>\n",
       "      <td>Daylight</td>\n",
       "      <td>Cloudy</td>\n",
       "      <td>1</td>\n",
       "      <td>2019-01-02</td>\n",
       "      <td>1</td>\n",
       "    </tr>\n",
       "    <tr>\n",
       "      <th>...</th>\n",
       "      <td>...</td>\n",
       "      <td>...</td>\n",
       "      <td>...</td>\n",
       "      <td>...</td>\n",
       "      <td>...</td>\n",
       "      <td>...</td>\n",
       "      <td>...</td>\n",
       "      <td>...</td>\n",
       "      <td>...</td>\n",
       "      <td>...</td>\n",
       "      <td>...</td>\n",
       "      <td>...</td>\n",
       "      <td>...</td>\n",
       "    </tr>\n",
       "    <tr>\n",
       "      <th>33236</th>\n",
       "      <td>Wyoming</td>\n",
       "      <td>4</td>\n",
       "      <td>10</td>\n",
       "      <td>2019</td>\n",
       "      <td>6</td>\n",
       "      <td>Friday</td>\n",
       "      <td>15</td>\n",
       "      <td>Rural</td>\n",
       "      <td>Daylight</td>\n",
       "      <td>Clear</td>\n",
       "      <td>1</td>\n",
       "      <td>2019-10-04</td>\n",
       "      <td>40</td>\n",
       "    </tr>\n",
       "    <tr>\n",
       "      <th>33237</th>\n",
       "      <td>Wyoming</td>\n",
       "      <td>3</td>\n",
       "      <td>10</td>\n",
       "      <td>2019</td>\n",
       "      <td>5</td>\n",
       "      <td>Thursday</td>\n",
       "      <td>14</td>\n",
       "      <td>Rural</td>\n",
       "      <td>Daylight</td>\n",
       "      <td>Clear</td>\n",
       "      <td>1</td>\n",
       "      <td>2019-10-03</td>\n",
       "      <td>40</td>\n",
       "    </tr>\n",
       "    <tr>\n",
       "      <th>33238</th>\n",
       "      <td>Wyoming</td>\n",
       "      <td>27</td>\n",
       "      <td>10</td>\n",
       "      <td>2019</td>\n",
       "      <td>1</td>\n",
       "      <td>Sunday</td>\n",
       "      <td>3</td>\n",
       "      <td>Rural</td>\n",
       "      <td>Dark - Not Lighted</td>\n",
       "      <td>Snow</td>\n",
       "      <td>1</td>\n",
       "      <td>2019-10-27</td>\n",
       "      <td>43</td>\n",
       "    </tr>\n",
       "    <tr>\n",
       "      <th>33239</th>\n",
       "      <td>Wyoming</td>\n",
       "      <td>28</td>\n",
       "      <td>9</td>\n",
       "      <td>2019</td>\n",
       "      <td>7</td>\n",
       "      <td>Saturday</td>\n",
       "      <td>18</td>\n",
       "      <td>Rural</td>\n",
       "      <td>Dusk</td>\n",
       "      <td>Severe Crosswinds</td>\n",
       "      <td>1</td>\n",
       "      <td>2019-09-28</td>\n",
       "      <td>39</td>\n",
       "    </tr>\n",
       "    <tr>\n",
       "      <th>33240</th>\n",
       "      <td>Wyoming</td>\n",
       "      <td>30</td>\n",
       "      <td>9</td>\n",
       "      <td>2019</td>\n",
       "      <td>2</td>\n",
       "      <td>Monday</td>\n",
       "      <td>13</td>\n",
       "      <td>Rural</td>\n",
       "      <td>Daylight</td>\n",
       "      <td>Clear</td>\n",
       "      <td>1</td>\n",
       "      <td>2019-09-30</td>\n",
       "      <td>40</td>\n",
       "    </tr>\n",
       "  </tbody>\n",
       "</table>\n",
       "<p>24047 rows × 13 columns</p>\n",
       "</div>"
      ],
      "text/plain": [
       "      STATENAME  DAY  MONTH  YEAR  DAY_WEEK DAY_WEEKNAME  HOUR RUR_URBNAME  \\\n",
       "1       Alabama   23      1  2019         4    Wednesday    18       Urban   \n",
       "2       Alabama   22      1  2019         3      Tuesday    19       Rural   \n",
       "3       Alabama   22      1  2019         3      Tuesday     3       Rural   \n",
       "5       Alabama    7      1  2019         2       Monday    12       Rural   \n",
       "6       Alabama    2      1  2019         4    Wednesday     9       Rural   \n",
       "...         ...  ...    ...   ...       ...          ...   ...         ...   \n",
       "33236   Wyoming    4     10  2019         6       Friday    15       Rural   \n",
       "33237   Wyoming    3     10  2019         5     Thursday    14       Rural   \n",
       "33238   Wyoming   27     10  2019         1       Sunday     3       Rural   \n",
       "33239   Wyoming   28      9  2019         7     Saturday    18       Rural   \n",
       "33240   Wyoming   30      9  2019         2       Monday    13       Rural   \n",
       "\n",
       "             LGT_CONDNAME        WEATHERNAME  FATALS       DATE  WEEK_NUM  \n",
       "1      Dark - Not Lighted               Rain       1 2019-01-23         4  \n",
       "2      Dark - Not Lighted             Cloudy       1 2019-01-22         4  \n",
       "3      Dark - Not Lighted              Clear       1 2019-01-22         4  \n",
       "5                Daylight              Clear       1 2019-01-07         2  \n",
       "6                Daylight             Cloudy       1 2019-01-02         1  \n",
       "...                   ...                ...     ...        ...       ...  \n",
       "33236            Daylight              Clear       1 2019-10-04        40  \n",
       "33237            Daylight              Clear       1 2019-10-03        40  \n",
       "33238  Dark - Not Lighted               Snow       1 2019-10-27        43  \n",
       "33239                Dusk  Severe Crosswinds       1 2019-09-28        39  \n",
       "33240            Daylight              Clear       1 2019-09-30        40  \n",
       "\n",
       "[24047 rows x 13 columns]"
      ]
     },
     "execution_count": 8,
     "metadata": {},
     "output_type": "execute_result"
    }
   ],
   "source": [
    "sample_df"
   ]
  },
  {
   "cell_type": "code",
   "execution_count": 9,
   "id": "engaging-function",
   "metadata": {},
   "outputs": [
    {
     "data": {
      "text/plain": [
       "<matplotlib.axes._subplots.AxesSubplot at 0x1166005c0>"
      ]
     },
     "execution_count": 9,
     "metadata": {},
     "output_type": "execute_result"
    },
    {
     "data": {
      "image/png": "[encoded data removed]",
      "text/plain": [
       "<Figure size 432x288 with 1 Axes>"
      ]
     },
     "metadata": {
      "needs_background": "light"
     },
     "output_type": "display_data"
    }
   ],
   "source": [
    "sample_df.plot(x=\"DATE\", y=\"FATALS\", kind=\"scatter\")"
   ]
  },
  {
   "cell_type": "code",
   "execution_count": 10,
   "id": "packed-vision",
   "metadata": {},
   "outputs": [
    {
     "data": {
      "image/png": "[encoded data removed]",
      "text/plain": [
       "<Figure size 432x288 with 1 Axes>"
      ]
     },
     "metadata": {
      "needs_background": "light"
     },
     "output_type": "display_data"
    }
   ],
   "source": [
    "start_date = '2019-03-03'\n",
    "end_date = '2019-03-09'\n",
    "\n",
    "sample_gb = sample_df.groupby(\"DATE\")\n",
    "summary = pd.DataFrame(sample_gb[\"FATALS\"].sum())\n",
    "summary.reset_index(inplace=True)\n",
    "summary.plot(x=\"DATE\", y=\"FATALS\", kind=\"line\")\n",
    "plt.xlim(start_date, end_date)\n",
    "plt.show()"
   ]
  },
  {
   "cell_type": "code",
   "execution_count": 11,
   "id": "approximate-expansion",
   "metadata": {},
   "outputs": [
    {
     "data": {
      "image/png": "[encoded data removed]",
      "text/plain": [
       "<Figure size 432x288 with 1 Axes>"
      ]
     },
     "metadata": {
      "needs_background": "light"
     },
     "output_type": "display_data"
    }
   ],
   "source": [
    "start_date = '2019-03-10'\n",
    "end_date = '2019-03-16'\n",
    "summary.plot(x=\"DATE\", y=\"FATALS\", kind=\"line\")\n",
    "plt.xlim(start_date, end_date)\n",
    "plt.show()"
   ]
  },
  {
   "cell_type": "code",
   "execution_count": 12,
   "id": "typical-evidence",
   "metadata": {},
   "outputs": [
    {
     "data": {
      "image/png": "[encoded data removed]",
      "text/plain": [
       "<Figure size 432x288 with 1 Axes>"
      ]
     },
     "metadata": {
      "needs_background": "light"
     },
     "output_type": "display_data"
    }
   ],
   "source": [
    "start_date = '2019-03-03'\n",
    "end_date = '2019-03-09'\n",
    "\n",
    "sample_gb = control_df.groupby(\"DATE\")\n",
    "summary = pd.DataFrame(sample_gb[\"FATALS\"].sum())\n",
    "summary.reset_index(inplace=True)\n",
    "summary.plot(x=\"DATE\", y=\"FATALS\", kind=\"line\")\n",
    "plt.xlim(start_date, end_date)\n",
    "plt.show()"
   ]
  },
  {
   "cell_type": "code",
   "execution_count": 35,
   "id": "horizontal-indian",
   "metadata": {},
   "outputs": [
    {
     "data": {
      "image/png": "[encoded data removed]",
      "text/plain": [
       "<Figure size 432x288 with 1 Axes>"
      ]
     },
     "metadata": {
      "needs_background": "light"
     },
     "output_type": "display_data"
    }
   ],
   "source": [
    "start_date = pd.to_datetime('2019-03-10')\n",
    "end_date = pd.to_datetime('2019-03-16')\n",
    "\n",
    "sample_gb = control_df.groupby(\"DATE\")\n",
    "summary = pd.DataFrame(sample_gb[\"FATALS\"].sum())\n",
    "summary.reset_index(inplace=True)\n",
    "summary.plot(x=\"DATE\", y=\"FATALS\", kind=\"line\")\n",
    "plt.xlim(start_date, end_date)\n",
    "plt.show()"
   ]
  },
  {
   "cell_type": "markdown",
   "id": "comfortable-citizen",
   "metadata": {},
   "source": [
    "### "
   ]
  },
  {
   "cell_type": "code",
   "execution_count": 50,
   "id": "simplified-pledge",
   "metadata": {},
   "outputs": [
    {
     "data": {
      "text/plain": [
       "(array([0.59890432, 1.19780864, 2.39561728, 3.59342592, 7.18685184,\n",
       "        6.58794752, 2.9945216 , 3.59342592, 0.59890432, 2.39561728]),\n",
       " array([-0.16996047, -0.13785056, -0.10574064, -0.07363072, -0.0415208 ,\n",
       "        -0.00941088,  0.02269904,  0.05480896,  0.08691888,  0.1190288 ,\n",
       "         0.15113872]),\n",
       " <a list of 10 Patch objects>)"
      ]
     },
     "execution_count": 50,
     "metadata": {},
     "output_type": "execute_result"
    },
    {
     "data": {
      "image/png": "[encoded data removed]",
      "text/plain": [
       "<Figure size 432x288 with 1 Axes>"
      ]
     },
     "metadata": {
      "needs_background": "light"
     },
     "output_type": "display_data"
    }
   ],
   "source": [
    "week_gb = sample_df.groupby(by=[\"WEEK_NUM\"])\n",
    "week_summary = pd.DataFrame(week_gb[\"FATALS\"].sum())\n",
    "#week_summary[\"WEEKLY_CHANGE\"]\n",
    "weekly_change = []\n",
    "for index, row in week_summary.iterrows(): # WE WANT DELTA! FOR EACH WEEK\n",
    "    if index==1:\n",
    "        weekly_change.append(0)\n",
    "    else:\n",
    "        this_num = week_summary.loc[index, \"FATALS\"] # FATALITIES FROM THIS WEEK\n",
    "        last_num = week_summary.loc[index-1, \"FATALS\"] # FATALITIES FROM LAST WEEK\n",
    "        delta = (this_num / last_num) - 1\n",
    "        weekly_change.append(delta)\n",
    "week_summary[\"WEEKLY_CHANGE\"] = weekly_change\n",
    "plt.hist(week_summary[\"WEEKLY_CHANGE\"], density=True)"
   ]
  },
  {
   "cell_type": "code",
   "execution_count": 46,
   "id": "warming-appeal",
   "metadata": {},
   "outputs": [
    {
     "data": {
      "text/plain": [
       "(array([ 1.,  2.,  4.,  6., 12., 11.,  5.,  6.,  1.,  4.]),\n",
       " array([-0.16996047, -0.13785056, -0.10574064, -0.07363072, -0.0415208 ,\n",
       "        -0.00941088,  0.02269904,  0.05480896,  0.08691888,  0.1190288 ,\n",
       "         0.15113872]),\n",
       " <a list of 10 Patch objects>)"
      ]
     },
     "execution_count": 46,
     "metadata": {},
     "output_type": "execute_result"
    },
    {
     "data": {
      "image/png": "[encoded data removed]",
      "text/plain": [
       "<Figure size 432x288 with 1 Axes>"
      ]
     },
     "metadata": {
      "needs_background": "light"
     },
     "output_type": "display_data"
    }
   ],
   "source": [
    "\n"
   ]
  },
  {
   "cell_type": "code",
   "execution_count": 37,
   "id": "loving-cooper",
   "metadata": {},
   "outputs": [
    {
     "data": {
      "text/plain": [
       "10"
      ]
     },
     "execution_count": 37,
     "metadata": {},
     "output_type": "execute_result"
    }
   ],
   "source": [
    "start_date.week"
   ]
  },
  {
   "cell_type": "code",
   "execution_count": null,
   "id": "intermediate-camping",
   "metadata": {},
   "outputs": [],
   "source": []
  }
 ],
 "metadata": {
  "kernelspec": {
   "display_name": "Python [conda env:PythonData] *",
   "language": "python",
   "name": "conda-env-PythonData-py"
  },
  "language_info": {
   "codemirror_mode": {
    "name": "ipython",
    "version": 3
   },
   "file_extension": ".py",
   "mimetype": "text/x-python",
   "name": "python",
   "nbconvert_exporter": "python",
   "pygments_lexer": "ipython3",
   "version": "3.6.10"
  }
 },
 "nbformat": 4,
 "nbformat_minor": 5
}
