{
 "cells": [
  {
   "cell_type": "markdown",
   "id": "ahead-northern",
   "metadata": {},
   "source": [
    "# Assessing the Impact of Daylight Savings Time on Driving Fatalities\n",
    "\n",
    "- Anastasiades, Andrew\n",
    "- Drozdzewicz, Peter\n",
    "- Garcia, Viera\n",
    "- Sperry, Taylor\n",
    "- Surapanemi, Sindhura"
   ]
  },
  {
   "cell_type": "markdown",
   "id": "distant-advertising",
   "metadata": {},
   "source": [
    "### DEPENDENCIES"
   ]
  },
  {
   "cell_type": "code",
   "execution_count": 3,
   "id": "derived-offer",
   "metadata": {},
   "outputs": [],
   "source": [
    "import pandas as pd #data manipulation\n",
    "import os #Interoperability"
   ]
  },
  {
   "cell_type": "markdown",
   "id": "academic-easter",
   "metadata": {},
   "source": [
    "### FILE PATHS"
   ]
  },
  {
   "cell_type": "code",
   "execution_count": 8,
   "id": "mexican-primary",
   "metadata": {},
   "outputs": [],
   "source": [
    "accident_csv = os.path.join(\"Resources\", \"accident.csv\")"
   ]
  },
  {
   "cell_type": "markdown",
   "id": "broad-breakfast",
   "metadata": {},
   "source": [
    "### LOAD DATAFRAME"
   ]
  },
  {
   "cell_type": "code",
   "execution_count": 121,
   "id": "fallen-shanghai",
   "metadata": {},
   "outputs": [],
   "source": [
    "columns_to_keep = ['STATENAME', 'DAY', 'MONTH', 'LGT_CONDNAME', 'DRUNK_DR', 'WEATHERNAME', 'RUR_URBNAME']\n",
    "df = pd.read_csv(accident_csv, usecols=columns_to_keep)\n",
    "# Drop Drunk Drivers\n",
    "df = df[df[\"DRUNK_DR\"]==0] # EXCLUDE DRUNK DRIVERS\n"
   ]
  },
  {
   "cell_type": "code",
   "execution_count": null,
   "id": "conceptual-mandate",
   "metadata": {},
   "outputs": [],
   "source": []
  }
 ],
 "metadata": {
  "kernelspec": {
   "display_name": "Python [conda env:PythonData] *",
   "language": "python",
   "name": "conda-env-PythonData-py"
  },
  "language_info": {
   "codemirror_mode": {
    "name": "ipython",
    "version": 3
   },
   "file_extension": ".py",
   "mimetype": "text/x-python",
   "name": "python",
   "nbconvert_exporter": "python",
   "pygments_lexer": "ipython3",
   "version": "3.6.10"
  }
 },
 "nbformat": 4,
 "nbformat_minor": 5
}
