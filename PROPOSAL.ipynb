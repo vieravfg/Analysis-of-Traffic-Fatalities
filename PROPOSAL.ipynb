{
 "cells": [
  {
   "cell_type": "markdown",
   "id": "smart-superior",
   "metadata": {},
   "source": [
    "## PROJECT 1\n",
    "\n",
    "“Georgia's House of Representatives has approved a bill that could end the state's tradition of springing forward and falling back the clock twice every year.”\n",
    "https://www.ajc.com/politics/hate-the-time-switch-here-is-why-georgia-will-probably-keep-daylight-saving-time-for-now/YZTWT2BTKNCGNEJA5LQRNVHRXE/\n",
    "\n",
    "### Overview \n",
    "Not every state in America participates in Daylight Savings, such as AZ and HI. We want to find out if there is a correlation between the effects of Daylight Savings  (ie. time change, lighting, ect) and the amount of fatalities due to car crashes that occur in a state that has Daylight Savings (GA) vs. one that does not have Daylight Savings (AZ). \n",
    "\n",
    "\n",
    "### Questions for our data:\n",
    "Are there more car accidents during daylight savings?\n",
    "Does daylight savings have an effect on the increase of car crashes?\n",
    "Are there more car accidents in a state that has daylight savings (GA) compared to one that does not (AZ) during the time frame?\n",
    "How many more car accidents occur during daylight savings in GA?\n",
    "\n",
    "\n",
    "### Hypothesis\n",
    "Null Hypothesis (Ho): There is no significant relationship between fatal car accidents and Daylight Saving in the state of Georgia.\n",
    "Alternative Hypothesis (H1): There is a significant relationship between fatal car accidents and Daylight Saving in the state of Georgia.\n",
    "\n",
    "### Data Source\n",
    "The study relied on data obtained from the National Highway Traffic Safety Administration. \n",
    "Dates to focus our data on: Sunday March 10th, 2019-March 17th, 2019 and Sunday November 3rd, 2019- November 10th, 2019\n",
    "\n",
    "### Regression Analysis\n",
    "Scatter plot showing the relationship between the days of daylight savings and the increase in the number of fatalities due to car crashes for each state\n",
    "Scatter plot showing the relationship between the days of daylight savings and the increase in the number of fatalities due to car crashes comparing the two states (DLS vs. no DLS)\n",
    "Bar graph for amount of lighting during DLS and amount of fatalities due to car crashes that occur (for each state)\n",
    "Line graph for total amount of fatalities due to car crashes over time for both states \n",
    "\n",
    "### Potential conclusions\n",
    "From the scatter plot, we can conclude if the onset of daylight savings will affect the increase of fatalities due to car crashes.\n",
    "From the bar graph, we can conclude if the amount of lighting during daylight savings affects the increase of fatalities due to car crashes.\n",
    "From the line graph, we can conclude if there is an overall increase in fatalities during daylight savings compared to a state that does not participate in daylight savings. \n",
    "Conclude if the fatalities are due to daylight savings or not.\n",
    "\n",
    "### Limitations\n",
    "The Georgia population is 10,214,860 (2015) and the Arizona population is  6,828,065 (2015). \n",
    "\n",
    "\n",
    "\n",
    "### Data Cleaning\n",
    "Eliminate drunk drivers DRUNK_DR [1, 2]\n",
    "Keep the times as it is\n",
    "Columns to Keep ( STATENAME, DAY, MONTH, LGT_CONDNAME, DRUNK_DR, FATALS, WEATHER1NAME,)\n",
    "Keep state of Georgia and Arizona \n",
    "\n"
   ]
  }
 ],
 "metadata": {
  "kernelspec": {
   "display_name": "Python 3",
   "language": "python",
   "name": "python3"
  },
  "language_info": {
   "codemirror_mode": {
    "name": "ipython",
    "version": 3
   },
   "file_extension": ".py",
   "mimetype": "text/x-python",
   "name": "python",
   "nbconvert_exporter": "python",
   "pygments_lexer": "ipython3",
   "version": "3.6.10"
  }
 },
 "nbformat": 4,
 "nbformat_minor": 5
}
